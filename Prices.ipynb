{
 "cells": [
  {
   "cell_type": "code",
   "execution_count": 4,
   "id": "54c52e10-a27e-4d7e-bcc1-b66c90e1d30d",
   "metadata": {},
   "outputs": [],
   "source": [
    "import numpy as np\n",
    "import sklearn as sk\n",
    "import pmdarima\n",
    "import matplotlib.pyplot as plt\n",
    "import seaborn as sns\n",
    "def interpolate_daily_prices_from_df(monthly_prices_df):\n",
    "    daily_dates = pd.date_range(start=monthly_prices_df.index[0], end=monthly_prices_df.index[-1], freq='D')\n",
    "    daily_prices_df = pd.DataFrame(index=daily_dates)\n",
    "\n",
    "    for column in monthly_prices_df.columns:\n",
    "        interpolated_prices = np.interp(\n",
    "            x=daily_dates.astype(np.int64) // 10**9,  # Convert to Unix timestamp\n",
    "            xp=monthly_prices_df.index.astype(np.int64) // 10**9,  # Convert to Unix timestamp\n",
    "            fp=monthly_prices_df[column].values\n",
    "        )\n",
    "        daily_prices_df[column] = interpolated_prices\n",
    "\n",
    "    return daily_prices_df"
   ]
  },
  {
   "cell_type": "code",
   "execution_count": 13,
   "id": "d6afaedb-995a-4129-ae35-79b2464246e1",
   "metadata": {},
   "outputs": [],
   "source": [
    "    \n",
    "def get_price(date):\n",
    "        \n",
    "    from pandas import read_csv\n",
    "    d = read_csv(\"Nat_Gas.csv\")\n",
    "    from pandas import to_datetime\n",
    "    d['Dates'] = to_datetime(d['Dates'])\n",
    "    \n",
    "    train = d.iloc[:len(d) - 12 ]\n",
    "    test = d.iloc[len(d)-12:] \n",
    "      \n",
    "    from statsmodels.tsa.statespace.sarimax import SARIMAX \n",
    "      \n",
    "    #result = SARIMAX(train['Prices'],  \n",
    "                    #order = (0, 0, 0),  \n",
    "                    #seasonal_order =(2, 1, 0, 12)).fit()\n",
    "       \n",
    "    \n",
    "    forecast = SARIMAX(train['Prices'],  \n",
    "                    order = (0, 0, 0),  \n",
    "                    seasonal_order =(2, 1, 0, 12)).fit().predict(start = (len(d)),  \n",
    "                               end = (len(d)-1) +  12,  \n",
    "                               typ = 'levels')\n",
    "    \n",
    "    d.loc[:, ['Prices']] = d.loc[:, ['Prices']].interpolate(method='linear', limit_direction='both', limit=1000)\n",
    "    \n",
    "    from pandas import date_range \n",
    "    from pandas import concat\n",
    "    \n",
    "    \n",
    "    df = []\n",
    "    pred = date_range(start='10/31/2024', end='09/30/2025', freq='M')\n",
    "    b = 48\n",
    "    for i in pred:\n",
    "        df.append([i,forecast[b]])\n",
    "        b+=1\n",
    "    df = pd.DataFrame(df, columns = ['Dates','Prices'])\n",
    "    \n",
    "    d = concat([d,df])\n",
    "    d.set_index('Dates',inplace=True)\n",
    "    d = interpolate_daily_prices_from_df(d)\n",
    "    date = to_datetime(date)\n",
    "    return d._get_value(date, 'Prices') "
   ]
  },
  {
   "cell_type": "code",
   "execution_count": null,
   "id": "05ef248a-e0a1-4ec0-92ea-20c1751def9f",
   "metadata": {},
   "outputs": [],
   "source": [
    "from statsmodels.tsa.seasonal import seasonal_decompose \n",
    "result = seasonal_decompose(d['Prices'],  \n",
    "                            model ='additive', period = 12) \n",
    "  \n",
    "# ETS plot  \n",
    "result.plot()\n",
    "\n",
    "from pmdarima import auto_arima \n",
    "  \n",
    "# # Ignore harmless warnings \n",
    "import warnings \n",
    "warnings.filterwarnings(\"ignore\") \n",
    "  \n",
    "# # Fit auto_arima function to AirPassengers dataset \n",
    "stepwise_fit = auto_arima(d['Prices'], start_p = 0, start_q = 0, \n",
    "                           max_p = 365, max_q = 365, m = 12, \n",
    "                           start_P = 0, seasonal = True, \n",
    "                           d = None, D = 1, trace = True, \n",
    "                           error_action ='ignore',   # we don't want to know if an order does not work \n",
    "                           suppress_warnings = True,  # we don't want convergence warnings \n",
    "                          stepwise = True)  \n",
    "stepwise_fit "
   ]
  },
  {
   "cell_type": "code",
   "execution_count": null,
   "id": "665b7351-4f44-4dc8-b157-a6efe3274380",
   "metadata": {},
   "outputs": [],
   "source": [
    "\n",
    "start = len(train)\n",
    "end = len(d) - 1\n",
    "\n",
    "# Predictions for one-year against the test set \n",
    "predictions = result.predict(start, end, \n",
    "                             typ = 'levels').rename(\"Predictions\") \n",
    "  \n",
    "# plot predictions and actual values \n",
    "predictions.plot(legend=True) \n",
    "test['Prices'].plot(legend=True)\n",
    "# d['Prices'].plot(legend=True)"
   ]
  },
  {
   "cell_type": "code",
   "execution_count": null,
   "id": "8d9bd3af-1dee-4b4f-b646-33d7e03062f8",
   "metadata": {},
   "outputs": [],
   "source": [
    "from sklearn.metrics import mean_squared_error \n",
    "from statsmodels.tools.eval_measures import rmse \n",
    "\n",
    "\n",
    "# Calculate root mean squared error \n",
    "print(rmse(test[\"Prices\"], predictions),\" , \",\n",
    "mean_squared_error(test[\"Prices\"], predictions))  \n"
   ]
  },
  {
   "cell_type": "code",
   "execution_count": 15,
   "id": "0fd04c7c-550f-4c99-9acc-5588e758dab7",
   "metadata": {},
   "outputs": [
    {
     "name": "stdin",
     "output_type": "stream",
     "text": [
      "Enter date:  2025/02/06\n"
     ]
    },
    {
     "name": "stdout",
     "output_type": "stream",
     "text": [
      "RUNNING THE L-BFGS-B CODE\n",
      "\n",
      "           * * *\n",
      "\n",
      "Machine precision = 2.220D-16\n",
      " N =            3     M =           10\n",
      "\n",
      "At X0         0 variables are exactly at the bounds\n",
      "\n",
      "At iterate    0    f=  1.27153D+00    |proj g|=  8.31801D+00\n",
      "\n",
      "At iterate    5    f=  5.18309D-01    |proj g|=  3.14874D-02\n",
      "\n",
      "           * * *\n",
      "\n",
      "Tit   = total number of iterations\n",
      "Tnf   = total number of function evaluations\n",
      "Tnint = total number of segments explored during Cauchy searches\n",
      "Skip  = number of BFGS updates skipped\n",
      "Nact  = number of active bounds at final generalized Cauchy point\n",
      "Projg = norm of the final projected gradient\n",
      "F     = final function value\n",
      "\n",
      "           * * *\n",
      "\n",
      "   N    Tit     Tnf  Tnint  Skip  Nact     Projg        F\n",
      "    3      9     17      1     0     0   1.449D-06   5.165D-01\n",
      "  F =  0.51653774050569934     \n",
      "\n",
      "CONVERGENCE: NORM_OF_PROJECTED_GRADIENT_<=_PGTOL            \n"
     ]
    },
    {
     "name": "stderr",
     "output_type": "stream",
     "text": [
      "/var/folders/ms/pqgh2n056hb02_t21cf9s0qw0000gn/T/ipykernel_60342/4230953852.py:6: UserWarning: Could not infer format, so each element will be parsed individually, falling back to `dateutil`. To ensure parsing is consistent and as-expected, please specify a format.\n",
      "  d['Dates'] = to_datetime(d['Dates'])\n",
      "/Users/rikkumar/miniconda3/envs/py3117/lib/python3.11/site-packages/statsmodels/tsa/statespace/sarimax.py:866: UserWarning: Too few observations to estimate starting parameters for seasonal ARMA. All parameters except for variances will be set to zeros.\n",
      "  warn('Too few observations to estimate starting parameters%s.'\n",
      " This problem is unconstrained.\n",
      "/Users/rikkumar/miniconda3/envs/py3117/lib/python3.11/site-packages/statsmodels/tsa/statespace/representation.py:374: FutureWarning: Unknown keyword arguments: dict_keys(['typ']).Passing unknown keyword arguments will raise a TypeError beginning in version 0.15.\n",
      "  warnings.warn(msg, FutureWarning)\n",
      "/var/folders/ms/pqgh2n056hb02_t21cf9s0qw0000gn/T/ipykernel_60342/4230953852.py:31: FutureWarning: 'M' is deprecated and will be removed in a future version, please use 'ME' instead.\n",
      "  pred = date_range(start='10/31/2024', end='09/30/2025', freq='M')\n"
     ]
    },
    {
     "data": {
      "text/plain": [
       "12.482927759726573"
      ]
     },
     "execution_count": 15,
     "metadata": {},
     "output_type": "execute_result"
    }
   ],
   "source": [
    "date = input(\"Enter date: \")\n",
    "get_price(date)"
   ]
  },
  {
   "cell_type": "code",
   "execution_count": null,
   "id": "ae0278be-a247-4614-ad3c-3f73e9a98bd2",
   "metadata": {},
   "outputs": [],
   "source": []
  }
 ],
 "metadata": {
  "kernelspec": {
   "display_name": "Python (py3117)",
   "language": "python",
   "name": "py3117"
  },
  "language_info": {
   "codemirror_mode": {
    "name": "ipython",
    "version": 3
   },
   "file_extension": ".py",
   "mimetype": "text/x-python",
   "name": "python",
   "nbconvert_exporter": "python",
   "pygments_lexer": "ipython3",
   "version": "3.11.7"
  }
 },
 "nbformat": 4,
 "nbformat_minor": 5
}

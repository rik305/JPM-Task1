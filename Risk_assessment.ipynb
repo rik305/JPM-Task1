{
 "cells": [
  {
   "cell_type": "code",
   "execution_count": 2,
   "id": "1752d38a-99d2-421b-aeef-78dd658e9812",
   "metadata": {},
   "outputs": [],
   "source": [
    "from pandas import read_csv\n",
    "df = read_csv(\"Loan_Data.csv\")"
   ]
  },
  {
   "cell_type": "code",
   "execution_count": 61,
   "id": "3cfbe754-309c-4c2f-839d-8eeb73a13abc",
   "metadata": {},
   "outputs": [
    {
     "data": {
      "text/plain": [
       "default\n",
       "0    0.8149\n",
       "1    0.1851\n",
       "Name: proportion, dtype: float64"
      ]
     },
     "execution_count": 61,
     "metadata": {},
     "output_type": "execute_result"
    }
   ],
   "source": [
    "df.head(20)\n",
    "df['default'].value_counts(1)"
   ]
  },
  {
   "cell_type": "code",
   "execution_count": 13,
   "id": "bfcc5ccf-366b-4f63-b34a-c3a195ec79d2",
   "metadata": {},
   "outputs": [],
   "source": [
    "df.set_index('customer_id',inplace = True)"
   ]
  },
  {
   "cell_type": "code",
   "execution_count": 77,
   "id": "a4350ff0-1867-4864-acff-6c0d3348de31",
   "metadata": {},
   "outputs": [
    {
     "data": {
      "text/html": [
       "<div>\n",
       "<style scoped>\n",
       "    .dataframe tbody tr th:only-of-type {\n",
       "        vertical-align: middle;\n",
       "    }\n",
       "\n",
       "    .dataframe tbody tr th {\n",
       "        vertical-align: top;\n",
       "    }\n",
       "\n",
       "    .dataframe thead th {\n",
       "        text-align: right;\n",
       "    }\n",
       "</style>\n",
       "<table border=\"1\" class=\"dataframe\">\n",
       "  <thead>\n",
       "    <tr style=\"text-align: right;\">\n",
       "      <th></th>\n",
       "      <th>credit_lines_outstanding</th>\n",
       "      <th>loan_amt_outstanding</th>\n",
       "      <th>total_debt_outstanding</th>\n",
       "      <th>income</th>\n",
       "      <th>years_employed</th>\n",
       "      <th>fico_score</th>\n",
       "      <th>default</th>\n",
       "    </tr>\n",
       "    <tr>\n",
       "      <th>customer_id</th>\n",
       "      <th></th>\n",
       "      <th></th>\n",
       "      <th></th>\n",
       "      <th></th>\n",
       "      <th></th>\n",
       "      <th></th>\n",
       "      <th></th>\n",
       "    </tr>\n",
       "  </thead>\n",
       "  <tbody>\n",
       "    <tr>\n",
       "      <th>1604134</th>\n",
       "      <td>5</td>\n",
       "      <td>3683.468893</td>\n",
       "      <td>15762.948730</td>\n",
       "      <td>52866.04111</td>\n",
       "      <td>2</td>\n",
       "      <td>562</td>\n",
       "      <td>1</td>\n",
       "    </tr>\n",
       "    <tr>\n",
       "      <th>7638660</th>\n",
       "      <td>0</td>\n",
       "      <td>2022.298526</td>\n",
       "      <td>2050.954718</td>\n",
       "      <td>38518.10083</td>\n",
       "      <td>4</td>\n",
       "      <td>659</td>\n",
       "      <td>0</td>\n",
       "    </tr>\n",
       "    <tr>\n",
       "      <th>3642445</th>\n",
       "      <td>2</td>\n",
       "      <td>5616.069979</td>\n",
       "      <td>15651.927410</td>\n",
       "      <td>92563.01135</td>\n",
       "      <td>2</td>\n",
       "      <td>586</td>\n",
       "      <td>0</td>\n",
       "    </tr>\n",
       "    <tr>\n",
       "      <th>4833016</th>\n",
       "      <td>1</td>\n",
       "      <td>5316.679750</td>\n",
       "      <td>8494.673230</td>\n",
       "      <td>78577.94145</td>\n",
       "      <td>6</td>\n",
       "      <td>608</td>\n",
       "      <td>0</td>\n",
       "    </tr>\n",
       "    <tr>\n",
       "      <th>4140179</th>\n",
       "      <td>5</td>\n",
       "      <td>3449.465266</td>\n",
       "      <td>12872.920690</td>\n",
       "      <td>50769.06520</td>\n",
       "      <td>5</td>\n",
       "      <td>662</td>\n",
       "      <td>1</td>\n",
       "    </tr>\n",
       "    <tr>\n",
       "      <th>...</th>\n",
       "      <td>...</td>\n",
       "      <td>...</td>\n",
       "      <td>...</td>\n",
       "      <td>...</td>\n",
       "      <td>...</td>\n",
       "      <td>...</td>\n",
       "      <td>...</td>\n",
       "    </tr>\n",
       "    <tr>\n",
       "      <th>3972488</th>\n",
       "      <td>0</td>\n",
       "      <td>3033.647103</td>\n",
       "      <td>2553.733144</td>\n",
       "      <td>42691.62787</td>\n",
       "      <td>5</td>\n",
       "      <td>697</td>\n",
       "      <td>0</td>\n",
       "    </tr>\n",
       "    <tr>\n",
       "      <th>6184073</th>\n",
       "      <td>1</td>\n",
       "      <td>4146.239304</td>\n",
       "      <td>5458.163525</td>\n",
       "      <td>79969.50521</td>\n",
       "      <td>8</td>\n",
       "      <td>615</td>\n",
       "      <td>0</td>\n",
       "    </tr>\n",
       "    <tr>\n",
       "      <th>6694516</th>\n",
       "      <td>2</td>\n",
       "      <td>3088.223727</td>\n",
       "      <td>4813.090925</td>\n",
       "      <td>38192.67591</td>\n",
       "      <td>5</td>\n",
       "      <td>596</td>\n",
       "      <td>0</td>\n",
       "    </tr>\n",
       "    <tr>\n",
       "      <th>3942961</th>\n",
       "      <td>0</td>\n",
       "      <td>3288.901666</td>\n",
       "      <td>1043.099660</td>\n",
       "      <td>50929.37206</td>\n",
       "      <td>2</td>\n",
       "      <td>647</td>\n",
       "      <td>0</td>\n",
       "    </tr>\n",
       "    <tr>\n",
       "      <th>5533570</th>\n",
       "      <td>1</td>\n",
       "      <td>1917.652480</td>\n",
       "      <td>3050.248203</td>\n",
       "      <td>30611.62821</td>\n",
       "      <td>6</td>\n",
       "      <td>757</td>\n",
       "      <td>0</td>\n",
       "    </tr>\n",
       "  </tbody>\n",
       "</table>\n",
       "<p>2000 rows × 7 columns</p>\n",
       "</div>"
      ],
      "text/plain": [
       "             credit_lines_outstanding  loan_amt_outstanding  \\\n",
       "customer_id                                                   \n",
       "1604134                             5           3683.468893   \n",
       "7638660                             0           2022.298526   \n",
       "3642445                             2           5616.069979   \n",
       "4833016                             1           5316.679750   \n",
       "4140179                             5           3449.465266   \n",
       "...                               ...                   ...   \n",
       "3972488                             0           3033.647103   \n",
       "6184073                             1           4146.239304   \n",
       "6694516                             2           3088.223727   \n",
       "3942961                             0           3288.901666   \n",
       "5533570                             1           1917.652480   \n",
       "\n",
       "             total_debt_outstanding       income  years_employed  fico_score  \\\n",
       "customer_id                                                                    \n",
       "1604134                15762.948730  52866.04111               2         562   \n",
       "7638660                 2050.954718  38518.10083               4         659   \n",
       "3642445                15651.927410  92563.01135               2         586   \n",
       "4833016                 8494.673230  78577.94145               6         608   \n",
       "4140179                12872.920690  50769.06520               5         662   \n",
       "...                             ...          ...             ...         ...   \n",
       "3972488                 2553.733144  42691.62787               5         697   \n",
       "6184073                 5458.163525  79969.50521               8         615   \n",
       "6694516                 4813.090925  38192.67591               5         596   \n",
       "3942961                 1043.099660  50929.37206               2         647   \n",
       "5533570                 3050.248203  30611.62821               6         757   \n",
       "\n",
       "             default  \n",
       "customer_id           \n",
       "1604134            1  \n",
       "7638660            0  \n",
       "3642445            0  \n",
       "4833016            0  \n",
       "4140179            1  \n",
       "...              ...  \n",
       "3972488            0  \n",
       "6184073            0  \n",
       "6694516            0  \n",
       "3942961            0  \n",
       "5533570            0  \n",
       "\n",
       "[2000 rows x 7 columns]"
      ]
     },
     "execution_count": 77,
     "metadata": {},
     "output_type": "execute_result"
    }
   ],
   "source": [
    "train = df.iloc[0:8000]\n",
    "test = df.iloc[8000:10000]\n",
    "test"
   ]
  },
  {
   "cell_type": "code",
   "execution_count": 15,
   "id": "0711b565-afc8-4727-b259-520f55f88312",
   "metadata": {},
   "outputs": [
    {
     "data": {
      "text/plain": [
       "'total_debt_outstanding'"
      ]
     },
     "execution_count": 15,
     "metadata": {},
     "output_type": "execute_result"
    }
   ],
   "source": [
    "var = ['credit_lines_outstanding', 'loan_amt_outstanding', 'total_debt_outstanding', 'income', 'years_employed', 'fico_score']\n",
    "var[2]"
   ]
  },
  {
   "cell_type": "code",
   "execution_count": 35,
   "id": "41bfd6b5-3b24-4b47-bb05-7782f516c858",
   "metadata": {},
   "outputs": [],
   "source": [
    "x = df.values[:,0:6]\n",
    "y = df.values[:,6]"
   ]
  },
  {
   "cell_type": "code",
   "execution_count": 46,
   "id": "7e4818fa-60a9-4d20-987d-f79d9d2ab6a3",
   "metadata": {},
   "outputs": [],
   "source": [
    "import numpy as np\n",
    "import pandas as pd\n",
    "from sklearn.metrics import confusion_matrix, accuracy_score, classification_report\n",
    "from sklearn.model_selection import train_test_split\n",
    "from sklearn.tree import DecisionTreeClassifier\n",
    "import matplotlib.pyplot as plt"
   ]
  },
  {
   "cell_type": "code",
   "execution_count": 52,
   "id": "95d63fbd-05c4-4909-8dc6-6bca2be51566",
   "metadata": {},
   "outputs": [],
   "source": [
    "X_train, X_test, y_train, y_test = train_test_split(x, y, test_size = 0.2, random_state = 100)"
   ]
  },
  {
   "cell_type": "code",
   "execution_count": 80,
   "id": "7e7c83f6-162d-44fd-bc77-94073315366d",
   "metadata": {},
   "outputs": [],
   "source": [
    "pred= DecisionTreeClassifier(criterion=\"entropy\",random_state=100, max_depth=3,min_samples_leaf = 6).fit(X_train,y_train)"
   ]
  },
  {
   "cell_type": "code",
   "execution_count": 102,
   "id": "8c7c65c2-dcc4-4941-9079-d73c9d60c545",
   "metadata": {},
   "outputs": [
    {
     "data": {
      "text/plain": [
       "array([0., 0., 0., ..., 0., 0., 0.])"
      ]
     },
     "execution_count": 102,
     "metadata": {},
     "output_type": "execute_result"
    }
   ],
   "source": [
    "y_pred = pred.predict(X_test)\n",
    "y_pred"
   ]
  },
  {
   "cell_type": "code",
   "execution_count": 82,
   "id": "bb259464-ec0c-4c37-9b0e-1375df2e2f7e",
   "metadata": {},
   "outputs": [
    {
     "data": {
      "text/plain": [
       "0.987"
      ]
     },
     "execution_count": 82,
     "metadata": {},
     "output_type": "execute_result"
    }
   ],
   "source": [
    "score = accuracy_score(y_pred, y_test)\n",
    "score"
   ]
  },
  {
   "cell_type": "code",
   "execution_count": 83,
   "id": "c26a3df9-7d76-45d4-b24c-c72ea656bfae",
   "metadata": {},
   "outputs": [
    {
     "name": "stdout",
     "output_type": "stream",
     "text": [
      "0.8185 0.182\n"
     ]
    }
   ],
   "source": [
    "c0 = 0\n",
    "c1 = 1\n",
    "for i in y_test:\n",
    "    if i<0.5:\n",
    "        c0+=1\n",
    "    else:\n",
    "        c1+=1\n",
    "print (c0/2000,c1/2000)\n",
    "t = 0\n",
    "c = 0"
   ]
  },
  {
   "cell_type": "code",
   "execution_count": 85,
   "id": "4b24afe4-bc52-4052-9096-ed4b8169c938",
   "metadata": {},
   "outputs": [
    {
     "name": "stdout",
     "output_type": "stream",
     "text": [
      "0.1715\n"
     ]
    }
   ],
   "source": [
    "for i in range(2000):\n",
    "    if y_pred[i]==1:\n",
    "        t+=1\n",
    "print(t/2000)"
   ]
  },
  {
   "cell_type": "code",
   "execution_count": 86,
   "id": "98b01a46-500a-4eff-bdc0-03eb1ddf1967",
   "metadata": {},
   "outputs": [
    {
     "name": "stdout",
     "output_type": "stream",
     "text": [
      "[[1634   23]\n",
      " [   3  340]]\n"
     ]
    }
   ],
   "source": [
    "print(confusion_matrix(y_pred,y_test))"
   ]
  },
  {
   "cell_type": "code",
   "execution_count": 87,
   "id": "7f561a70-5bb0-45c3-bfd3-2d69ccc3fb84",
   "metadata": {},
   "outputs": [
    {
     "name": "stdout",
     "output_type": "stream",
     "text": [
      "              precision    recall  f1-score   support\n",
      "\n",
      "         0.0       0.99      1.00      0.99      1637\n",
      "         1.0       0.99      0.94      0.96       363\n",
      "\n",
      "    accuracy                           0.99      2000\n",
      "   macro avg       0.99      0.97      0.98      2000\n",
      "weighted avg       0.99      0.99      0.99      2000\n",
      "\n"
     ]
    }
   ],
   "source": [
    "print(classification_report(y_test, y_pred))"
   ]
  },
  {
   "cell_type": "code",
   "execution_count": 107,
   "id": "dd4571ac-003d-4fa6-986e-94ad97dfd932",
   "metadata": {},
   "outputs": [],
   "source": [
    "def will_default(cl,l_amt,d_amt,income,years,fico):\n",
    "    return int(pred.predict([[cl,l_amt,d_amt,income,years,fico]])[0])"
   ]
  },
  {
   "cell_type": "code",
   "execution_count": 117,
   "id": "6db58c22-2799-4652-8abe-27bcb0bce449",
   "metadata": {},
   "outputs": [
    {
     "data": {
      "text/plain": [
       "1"
      ]
     },
     "execution_count": 117,
     "metadata": {},
     "output_type": "execute_result"
    }
   ],
   "source": [
    "will_default(4.00000000e+00, 5.22154519e+03, 3.91547123e+03, 7.80393855e+04,\n",
    "       5.00000000e+00, 84.05000000e+02)"
   ]
  },
  {
   "cell_type": "code",
   "execution_count": null,
   "id": "587b58b7-8c14-4ec4-8303-8eedc445d911",
   "metadata": {},
   "outputs": [],
   "source": []
  }
 ],
 "metadata": {
  "kernelspec": {
   "display_name": "Python (py3117)",
   "language": "python",
   "name": "py3117"
  },
  "language_info": {
   "codemirror_mode": {
    "name": "ipython",
    "version": 3
   },
   "file_extension": ".py",
   "mimetype": "text/x-python",
   "name": "python",
   "nbconvert_exporter": "python",
   "pygments_lexer": "ipython3",
   "version": "3.11.7"
  }
 },
 "nbformat": 4,
 "nbformat_minor": 5
}
